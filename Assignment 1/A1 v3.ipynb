{
 "cells": [
  {
   "cell_type": "code",
   "execution_count": 6,
   "metadata": {
    "scrolled": true
   },
   "outputs": [
    {
     "data": {
      "image/png": "[encoded data removed]",
      "text/plain": [
       "<Figure size 432x288 with 1 Axes>"
      ]
     },
     "metadata": {},
     "output_type": "display_data"
    },
    {
     "name": "stdout",
     "output_type": "stream",
     "text": [
      "Mean:  0.197463303878  (True mean: 0.2)\n",
      "Variance:  0.0100812545601  (True variance: 0.01)\n",
      "The estimated central 95%-interval from the samples is: [  0.0461598468364  ,  0.429019678396  ]\n"
     ]
    }
   ],
   "source": [
    "'''\n",
    "Assignment 1\n",
    "'''\n",
    "\n",
    "from scipy.stats import beta\n",
    "import matplotlib.pyplot as plt\n",
    "import numpy as np\n",
    "\n",
    "# a) Plot of the density function of the Beta-distribution\n",
    "fig, ax = plt.subplots(1, 1)\n",
    "\n",
    "a = 0.2 * ((0.2*(1-0.2)/0.01)-1)\n",
    "b = a * (1-0.2)/0.2\n",
    "\n",
    "x = np.linspace(\n",
    "    beta.ppf(0.01, a, b),\n",
    "    beta.ppf(0.99, a, b), \n",
    "    100\n",
    ")\n",
    "\n",
    "ax.plot(\n",
    "    x, \n",
    "    beta.pdf(x, a, b),         \n",
    "    'r-', \n",
    "    lw=5, \n",
    "    alpha=0.6, \n",
    "    label='beta pdf'\n",
    ")\n",
    "\n",
    "# b) Plot of the histogram of the results of the Beta-distribution\n",
    "r = beta.rvs(a, b, size=1000)\n",
    "\n",
    "ax.hist(\n",
    "    r,\n",
    "    density=True,\n",
    "    histtype='stepfilled',\n",
    "    alpha=0.2)\n",
    "\n",
    "plt.show()\n",
    "\n",
    "# c) Computation of the mean and variance from the drawn samples\n",
    "print (\"Mean: \", np.mean(r), \" (True mean: 0.2)\")\n",
    "print (\"Variance: \",np.var(r), \" (True variance: 0.01)\")\n",
    "\n",
    "# d) Estimation of the central 95%-interval from the drawn samples\n",
    "print (\"The estimated central 95%-interval from the samples is: [ \", np.percentile(r, 2.5), \" , \", np.percentile(r, 97.5), \" ]\")\n"
   ]
  },
  {
   "cell_type": "code",
   "execution_count": 15,
   "metadata": {},
   "outputs": [],
   "source": []
  }
 ],
 "metadata": {
  "kernelspec": {
   "display_name": "Python 3",
   "language": "python",
   "name": "python3"
  },
  "language_info": {
   "codemirror_mode": {
    "name": "ipython",
    "version": 3
   },
   "file_extension": ".py",
   "mimetype": "text/x-python",
   "name": "python",
   "nbconvert_exporter": "python",
   "pygments_lexer": "ipython3",
   "version": "3.6.5"
  }
 },
 "nbformat": 4,
 "nbformat_minor": 2
}
