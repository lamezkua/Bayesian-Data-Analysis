{
 "cells": [
  {
   "cell_type": "code",
   "execution_count": 2,
   "metadata": {
    "scrolled": true
   },
   "outputs": [
    {
     "data": {
      "image/png": "[encoded data removed]",
      "text/plain": [
       "<Figure size 432x288 with 1 Axes>"
      ]
     },
     "metadata": {},
     "output_type": "display_data"
    },
    {
     "name": "stdout",
     "output_type": "stream",
     "text": [
      "Mean:  0.198868043218\n",
      "Variance:  0.00944242825242\n",
      "Central 95%-interval is between:  0.0478326817092  and  0.421124164364\n"
     ]
    }
   ],
   "source": [
    "'''\n",
    "Assignment 1\n",
    "'''\n",
    "\n",
    "from scipy.stats import beta\n",
    "import matplotlib.pyplot as plt\n",
    "import numpy as np\n",
    "\n",
    "fig, ax = plt.subplots(1, 1)\n",
    "#print(fig)\n",
    "#print(ax)\n",
    "\n",
    "#a, b = 2.30984964515, 0.62687954301\n",
    "#mean, var, skew, kurt = beta.stats(a, b, moments='mvsk')\n",
    "\n",
    "a = 0.2 * ((0.2*(1-0.2)/0.01)-1)\n",
    "b = a * (1-0.2)/0.2\n",
    "\n",
    "x = np.linspace(\n",
    "    beta.ppf(0.01, a, b),\n",
    "    beta.ppf(0.99, a, b), \n",
    "    100\n",
    ")\n",
    "ax.plot(\n",
    "    x, \n",
    "    beta.pdf(x, a, b),         \n",
    "    'r-', \n",
    "    lw=5, \n",
    "    alpha=0.6, \n",
    "    label='beta pdf'\n",
    ")\n",
    "\n",
    "r = beta.rvs(a, b, size=1000)\n",
    "\n",
    "ax.hist(r, density=True, histtype='stepfilled', alpha=0.2)\n",
    "ax.legend(loc='best', frameon=False)\n",
    "plt.show()\n",
    "\n",
    "\n",
    "print (\"Mean: \", np.mean(r))\n",
    "print (\"Variance: \",np.var(r))\n",
    "\n",
    "print (\"Central 95%-interval is between: \", np.percentile(r, 2.5), \" and \", np.percentile(r, 97.5))\n"
   ]
  },
  {
   "cell_type": "code",
   "execution_count": 15,
   "metadata": {},
   "outputs": [],
   "source": [
    "r = beta.rvs(a, b, size=1000)\n",
    "\n",
    "ax.hist(r, density=True, histtype='stepfilled', alpha=0.2)\n",
    "ax.legend(loc='best', frameon=False)\n",
    "plt.show()"
   ]
  }
 ],
 "metadata": {
  "kernelspec": {
   "display_name": "Python 3",
   "language": "python",
   "name": "python3"
  },
  "language_info": {
   "codemirror_mode": {
    "name": "ipython",
    "version": 3
   },
   "file_extension": ".py",
   "mimetype": "text/x-python",
   "name": "python",
   "nbconvert_exporter": "python",
   "pygments_lexer": "ipython3",
   "version": "3.6.5"
  }
 },
 "nbformat": 4,
 "nbformat_minor": 2
}
