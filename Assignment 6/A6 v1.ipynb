{
 "cells": [
  {
   "cell_type": "code",
   "execution_count": null,
   "metadata": {},
   "outputs": [],
   "source": [
    "import pystan\n",
    "\n",
    "bioassay_code = \"\"\"\n",
    "data {\n",
    "    int<lower=0> n; // number of tests\n",
    "    int N[n];\n",
    "    vector[n] x; \n",
    "    int y[n];// number of deaths\n",
    "    matrix[2,2] sigma; //covariance matrix\n",
    "    //vector<lower=0>[J] sigma; // s.e. of effect estimates\n",
    "}\n",
    "parameters {\n",
    "    //real mu;\n",
    "    //real<lower=0> tau;\n",
    "    vector[2] theta;\n",
    "}\n",
    "\n",
    "model {\n",
    "    theta ~ multi_normal(theta, sigma);\n",
    "    y ~ binomial_logit(N,theta[1]+theta[2]*x);\n",
    "}\n",
    "\"\"\"\n",
    "\n",
    "bioassay_dat = {'x': [-0.86, -0.30, -0.05, 0.73],\n",
    "               'y': [0, 1, 3, 5], \n",
    "               'N': [5, 5, 5, 5],\n",
    "               'theta': [0,10],\n",
    "               'sigma': [[4,10],[10,100]],\n",
    "                'n': 4\n",
    "               }\n",
    "\n",
    "sm = pystan.StanModel(model_code=bioassay_code)\n",
    "fit = sm.sampling(data=schools_dat, iter=1000, chains=4)\n",
    "theta=fit.extract(permuted=True)[';theta']\n",
    "print(fit)\n",
    "\n",
    "fit.plot()\n",
    "\n",
    "\n",
    "plt.scatter(theta[:,0],theta[:1])\n",
    "plt.show"
   ]
  }
 ],
 "metadata": {
  "kernelspec": {
   "display_name": "Python 3",
   "language": "python",
   "name": "python3"
  },
  "language_info": {
   "codemirror_mode": {
    "name": "ipython",
    "version": 3
   },
   "file_extension": ".py",
   "mimetype": "text/x-python",
   "name": "python",
   "nbconvert_exporter": "python",
   "pygments_lexer": "ipython3",
   "version": "3.6.5"
  }
 },
 "nbformat": 4,
 "nbformat_minor": 2
}
