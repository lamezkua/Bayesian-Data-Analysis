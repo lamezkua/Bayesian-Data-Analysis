{
 "cells": [
  {
   "cell_type": "code",
   "execution_count": 4,
   "metadata": {
    "scrolled": false
   },
   "outputs": [
    {
     "name": "stdout",
     "output_type": "stream",
     "text": [
      "Distributions.\n",
      "\n",
      "Prior p(pi)= Beta(2,10)\n",
      "Point estimate --> Beta Mean(2,10):  0.166666666667\n",
      "Interval estimate --> [2.5%,97.5%] percentile:  [ 0.0228311983 , 0.412779916988 ]\n",
      "\n",
      "Posterior p(pi|y)= Beta( 46 , 240 )\n",
      "Point estimate --> Beta Mean( 46 , 240 ):  0.160839160839\n",
      "Interval estimate --> [2.5%,97.5%] percentile:  [ 0.120656014803 , 0.20551209693 ]\n",
      "\n",
      "\n",
      "Historical records probability that algae levels pi is smaller than pi0= 0.2:  0.958613587195\n",
      "\n",
      "\n",
      "Prior sensitivity analysis.\n",
      "\n",
      "alpha=1 , beta=1\n",
      "Posterior p(pi|y)= Beta( 45 , 231 )\n",
      "Beta Mean( 45 , 231 ):  0.163043478261\n",
      "[2.5%,97.5%] percentile:  [ 0.121931384004 , 0.208777780256 ]\n",
      "\n",
      "alpha=80 , beta=400\n",
      "Posterior p(pi|y)= Beta( 124 , 630 )\n",
      "Beta Mean( 124 , 630 ):  0.164456233422\n",
      "[2.5%,97.5%] percentile:  [ 0.138875085872 , 0.191722981012 ]\n"
     ]
    },
    {
     "data": {
      "image/png": "[encoded data removed]",
      "text/plain": [
       "<Figure size 432x288 with 2 Axes>"
      ]
     },
     "metadata": {},
     "output_type": "display_data"
    }
   ],
   "source": [
    "''' \n",
    "Assignment 2 \n",
    "''' \n",
    "import matplotlib.pyplot as plt #define shorthand \"plt\" for package matlobplit.pyplot \n",
    "import numpy as np #define shorthand \"np\" for the numpy package \n",
    "import scipy.stats as sci \n",
    " \n",
    "# Prior and posterior distributions\n",
    "text_file = open(\"algae.txt\", \"r\") \n",
    "raw_data = text_file.read().split('\\n') \n",
    "text_file.close()\n",
    "\n",
    "data=list(map(int , ([i for i in raw_data if i == '0' or i == '1' ])))\n",
    "data=np.reshape(data,(len(data),1))\n",
    "\n",
    "ones = [i for i in data if i == 1] \n",
    "\n",
    "alpha=2 \n",
    "beta=10 \n",
    "\n",
    "x = np.arange(0 , 1 , 0.001) \n",
    "\n",
    "theta_prior= [sci.beta.pdf(i,alpha,beta) for i in x]\n",
    "theta_post=[sci.beta.pdf(i, alpha+len(ones), beta+len(data)-len(ones)) for i in x]\n",
    "\n",
    "fig, ax1=plt.subplots() \n",
    " \n",
    "ax1.plot(x, theta_prior, color='blue', zorder=3)\n",
    "ax1.plot(x, theta_post, color='green', zorder=3) \n",
    "ax2=ax1.twinx()\n",
    "\n",
    "ax1.text(0.95, 0.80, 'prior distribution',\n",
    "        verticalalignment='bottom', horizontalalignment='right',\n",
    "        transform=ax1.transAxes,\n",
    "        color='blue', fontsize=10)\n",
    "ax1.text(0.95, 0.90, 'posterior distribution',\n",
    "        verticalalignment='bottom', horizontalalignment='right',\n",
    "        transform=ax1.transAxes,\n",
    "        color='green', fontsize=10)\n",
    "\n",
    "plt.savefig('BetaDistr.jpg') \n",
    "\n",
    "\n",
    "print(\"Distributions.\")\n",
    "print(\"\\nPrior p(pi)= Beta(2,10)\")\n",
    "print(\"Point estimate --> Beta Mean(2,10): \", sci.beta.mean(alpha, beta)) \n",
    "print(\"Interval estimate --> [2.5%,97.5%] percentile: \", \"[\",sci.beta.ppf(0.025, alpha, beta),\",\",sci.beta.ppf(0.975, alpha, beta),\"]\")\n",
    "\n",
    "print(\"\\nPosterior p(pi|y)= Beta(\",alpha+len(ones),\",\",beta+len(data)-len(ones),\")\")\n",
    "print(\"Point estimate --> Beta Mean(\",alpha+len(ones),\",\",beta+len(data)-len(ones),\"): \",sci.beta.mean(alpha+len(ones), beta+len(data)-len(ones)))\n",
    "print(\"Interval estimate --> [2.5%,97.5%] percentile: \",\"[\",sci.beta.ppf(0.025, alpha+len(ones), beta+len(data)-len(ones)),\",\",sci.beta.ppf(0.975, alpha+len(ones), beta+len(data)-len(ones)),\"]\")\n",
    "\n",
    "# Probability that pi < 0.2\n",
    "print(\"\\n\\nHistorical records probability that algae levels pi is smaller than pi0= 0.2: \",sci.beta.cdf(0.2, alpha+len(ones), beta+len(data)-len(ones)))\n",
    "\n",
    "# Prior sensitivity analysis\n",
    "print(\"\\n\\nPrior sensitivity analysis.\")\n",
    "\n",
    "print(\"\\nalpha=1 , beta=1\")\n",
    "\n",
    "# Uniform prior\n",
    "alpha=1\n",
    "beta=1\n",
    "print(\"Posterior p(pi|y)= Beta(\",alpha+len(ones),\",\",beta+len(data)-len(ones),\")\")\n",
    "print(\"Beta Mean(\",alpha+len(ones),\",\",beta+len(data)-len(ones),\"): \", sci.beta.mean(alpha+len(ones), beta+len(data)-len(ones)))\n",
    "print(\"[2.5%,97.5%] percentile: \",\"[\", sci.beta.ppf(0.025, alpha+len(ones), beta+len(data)-len(ones)),\",\",sci.beta.ppf(0.975, alpha+len(ones), beta+len(data)-len(ones)),\"]\")\n",
    "\n",
    "print(\"\\nalpha=80 , beta=400\")\n",
    "\n",
    "# Other alpha and beta\n",
    "alpha=80\n",
    "beta=400\n",
    "print(\"Posterior p(pi|y)= Beta(\",alpha+len(ones),\",\",beta+len(data)-len(ones),\")\")\n",
    "print(\"Beta Mean(\",alpha+len(ones),\",\",beta+len(data)-len(ones),\"): \", sci.beta.mean(alpha+len(ones), beta+len(data)-len(ones)))\n",
    "print(\"[2.5%,97.5%] percentile: \",\"[\", sci.beta.ppf(0.025, alpha+len(ones), beta+len(data)-len(ones)),\",\",sci.beta.ppf(0.975, alpha+len(ones), beta+len(data)-len(ones)),\"]\")\n"
   ]
  }
 ],
 "metadata": {
  "kernelspec": {
   "display_name": "Python 3",
   "language": "python",
   "name": "python3"
  },
  "language_info": {
   "codemirror_mode": {
    "name": "ipython",
    "version": 3
   },
   "file_extension": ".py",
   "mimetype": "text/x-python",
   "name": "python",
   "nbconvert_exporter": "python",
   "pygments_lexer": "ipython3",
   "version": "3.6.5"
  }
 },
 "nbformat": 4,
 "nbformat_minor": 2
}
