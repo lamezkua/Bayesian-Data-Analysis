{
 "cells": [
  {
   "cell_type": "code",
   "execution_count": 6,
   "metadata": {},
   "outputs": [],
   "source": [
    "import pystan\n",
    "import numpy as np\n",
    "import pandas as pd\n",
    "import matplotlib.pyplot as plt\n",
    "from psis import psisloo"
   ]
  },
  {
   "cell_type": "code",
   "execution_count": 2,
   "metadata": {},
   "outputs": [],
   "source": [
    "import matplotlib as mpl\n",
    "mpl.rcParams['figure.dpi']=150"
   ]
  },
  {
   "cell_type": "code",
   "execution_count": 3,
   "metadata": {},
   "outputs": [
    {
     "data": {
      "text/html": [
       "<div>\n",
       "<style scoped>\n",
       "    .dataframe tbody tr th:only-of-type {\n",
       "        vertical-align: middle;\n",
       "    }\n",
       "\n",
       "    .dataframe tbody tr th {\n",
       "        vertical-align: top;\n",
       "    }\n",
       "\n",
       "    .dataframe thead th {\n",
       "        text-align: right;\n",
       "    }\n",
       "</style>\n",
       "<table border=\"1\" class=\"dataframe\">\n",
       "  <thead>\n",
       "    <tr style=\"text-align: right;\">\n",
       "      <th></th>\n",
       "      <th>MC1</th>\n",
       "      <th>MC2</th>\n",
       "      <th>MC3</th>\n",
       "      <th>MC4</th>\n",
       "      <th>MC5</th>\n",
       "      <th>MC6</th>\n",
       "    </tr>\n",
       "    <tr>\n",
       "      <th>Measure</th>\n",
       "      <th></th>\n",
       "      <th></th>\n",
       "      <th></th>\n",
       "      <th></th>\n",
       "      <th></th>\n",
       "      <th></th>\n",
       "    </tr>\n",
       "  </thead>\n",
       "  <tbody>\n",
       "    <tr>\n",
       "      <th>M1</th>\n",
       "      <td>83</td>\n",
       "      <td>117</td>\n",
       "      <td>101</td>\n",
       "      <td>105</td>\n",
       "      <td>79</td>\n",
       "      <td>57</td>\n",
       "    </tr>\n",
       "    <tr>\n",
       "      <th>M2</th>\n",
       "      <td>92</td>\n",
       "      <td>109</td>\n",
       "      <td>93</td>\n",
       "      <td>119</td>\n",
       "      <td>97</td>\n",
       "      <td>92</td>\n",
       "    </tr>\n",
       "    <tr>\n",
       "      <th>M3</th>\n",
       "      <td>92</td>\n",
       "      <td>114</td>\n",
       "      <td>92</td>\n",
       "      <td>116</td>\n",
       "      <td>103</td>\n",
       "      <td>104</td>\n",
       "    </tr>\n",
       "    <tr>\n",
       "      <th>M4</th>\n",
       "      <td>46</td>\n",
       "      <td>104</td>\n",
       "      <td>86</td>\n",
       "      <td>102</td>\n",
       "      <td>79</td>\n",
       "      <td>77</td>\n",
       "    </tr>\n",
       "    <tr>\n",
       "      <th>M5</th>\n",
       "      <td>67</td>\n",
       "      <td>87</td>\n",
       "      <td>67</td>\n",
       "      <td>116</td>\n",
       "      <td>92</td>\n",
       "      <td>100</td>\n",
       "    </tr>\n",
       "  </tbody>\n",
       "</table>\n",
       "</div>"
      ],
      "text/plain": [
       "         MC1  MC2  MC3  MC4  MC5  MC6\n",
       "Measure                              \n",
       "M1        83  117  101  105   79   57\n",
       "M2        92  109   93  119   97   92\n",
       "M3        92  114   92  116  103  104\n",
       "M4        46  104   86  102   79   77\n",
       "M5        67   87   67  116   92  100"
      ]
     },
     "execution_count": 3,
     "metadata": {},
     "output_type": "execute_result"
    }
   ],
   "source": [
    "factory_data = pd.read_csv('factory.csv')\n",
    "factory_data.index = factory_data['Measure']\n",
    "factory_data=factory_data.drop(columns=['Measure'])\n",
    "factory_data"
   ]
  },
  {
   "cell_type": "code",
   "execution_count": 7,
   "metadata": {},
   "outputs": [
    {
     "name": "stderr",
     "output_type": "stream",
     "text": [
      "INFO:pystan:COMPILING THE C++ CODE FOR MODEL anon_model_c76b79fe97559272ce642be193b478b0 NOW.\n"
     ]
    }
   ],
   "source": [
    "factory_code_pooled= '''\n",
    "data {\n",
    "  int<lower=0> N; // number of data points\n",
    "  vector[N] y; // Measurements\n",
    "}\n",
    "parameters {\n",
    "  real mu;        //  means\n",
    "  real<lower=0> sigma; //  std\n",
    "}\n",
    "model {\n",
    "  y ~ normal(mu, sigma);\n",
    "}\n",
    "generated quantities {\n",
    " real ypred;  // A prediction \n",
    " vector[N] log_lik;\n",
    " ypred = normal_rng(mu, sigma);\n",
    " for (i in 1:N)\n",
    "    log_lik[i] = normal_lpdf(y[i] | mu, sigma);\n",
    " }\n",
    "'''\n",
    "\n",
    "pooled_sm = pystan.StanModel(model_code=factory_code_pooled)"
   ]
  },
  {
   "cell_type": "code",
   "execution_count": 50,
   "metadata": {},
   "outputs": [],
   "source": [
    "pooled_data={\n",
    "                'N':factory_data.size,\n",
    "                'y':factory_data.values.flatten()\n",
    "}\n",
    "pooled_fit = pooled_sm.sampling(data=pooled_data, iter=1000, chains=4)"
   ]
  },
  {
   "cell_type": "code",
   "execution_count": 149,
   "metadata": {},
   "outputs": [
    {
     "data": {
      "text/plain": [
       "(-130.88836415529553,\n",
       " array([-4.02235852, -4.75194498, -3.96720058, -4.08688858, -4.16708077,\n",
       "        -5.93208866, -3.87413444, -4.25629613, -3.87257123, -4.91045691,\n",
       "        -3.89600547, -3.87413444, -3.87413444, -4.54072102, -3.87413444,\n",
       "        -4.67805072, -4.02091831, -4.05236208, -7.57363627, -4.05236208,\n",
       "        -3.94595806, -3.99253717, -4.16708077, -4.25819975, -4.91175319,\n",
       "        -3.9265244 , -4.91175319, -4.67805072, -3.87413444, -3.94489239]),\n",
       " array([0.07889885, 0.1927652 , 0.25223954, 0.31922356, 0.24292393,\n",
       "        0.21904101, 0.0204904 , 0.17948536, 0.05077826, 0.18302523,\n",
       "        0.10911019, 0.0204904 , 0.0204904 , 0.1426064 , 0.0204904 ,\n",
       "        0.16195377, 0.29428709, 0.30658646, 0.34706854, 0.30658646,\n",
       "        0.02550583, 0.21602928, 0.24292393, 0.15977818, 0.08398226,\n",
       "        0.0243235 , 0.08398226, 0.16195377, 0.0204904 , 0.23549669]))"
      ]
     },
     "execution_count": 149,
     "metadata": {},
     "output_type": "execute_result"
    }
   ],
   "source": [
    "psisloo(log_lik_pool)"
   ]
  },
  {
   "cell_type": "code",
   "execution_count": 130,
   "metadata": {},
   "outputs": [
    {
     "name": "stdout",
     "output_type": "stream",
     "text": [
      "Pooled Model Infirmation:\n",
      "PSIS Loo value for Pooled Model :  -130.88836415529553\n",
      "p_eff value for Pooled Model:  1.9237418111239606\n",
      "\n",
      "\n",
      "\n",
      "The k-vlaues are\n",
      "\n",
      "\n",
      "Observation\t|k-value\n",
      "1         \t|0.0788988498794648\n",
      "2         \t|0.19276519684692545\n",
      "3         \t|0.2522395380973426\n",
      "4         \t|0.3192235613511115\n",
      "5         \t|0.24292393051725364\n",
      "6         \t|0.21904100658122516\n",
      "7         \t|0.02049039932596787\n",
      "8         \t|0.17948535996029685\n",
      "9         \t|0.050778258731444814\n",
      "10        \t|0.18302523024257655\n",
      "11        \t|0.10911018545321569\n",
      "12        \t|0.02049039932596787\n",
      "13        \t|0.02049039932596787\n",
      "14        \t|0.14260639804128172\n",
      "15        \t|0.02049039932596787\n",
      "16        \t|0.16195377047696685\n",
      "17        \t|0.29428708707769474\n",
      "18        \t|0.30658646045243104\n",
      "19        \t|0.34706853605601096\n",
      "20        \t|0.30658646045243104\n",
      "21        \t|0.0255058325722032\n",
      "22        \t|0.21602928294325957\n",
      "23        \t|0.24292393051725364\n",
      "24        \t|0.15977817881436457\n",
      "25        \t|0.0839822584977146\n",
      "26        \t|0.024323501780659375\n",
      "27        \t|0.0839822584977146\n",
      "28        \t|0.16195377047696685\n",
      "29        \t|0.02049039932596787\n",
      "30        \t|0.2354966882716778\n"
     ]
    }
   ],
   "source": [
    "log_lik_pool = pooled_fit.extract()['log_lik']\n",
    "loo_pool=psisloo(log_lik_pool)\n",
    "print(\"Pooled Model Information:\")\n",
    "    \n",
    "print(\"PSIS Loo value for Pooled Model : \",loo_pool[0])\n",
    "l_ppd_pool=np.sum(np.log(np.mean(np.exp(log_lik_pool),axis=0)))\n",
    "p_eff_pool = l_ppd_pool - loo_pool[0] \n",
    "print(\"p_eff value for Pooled Model: \",p_eff_pool)\n",
    "\n",
    "template = '{0:10}\\t|{1:4}'\n",
    "\n",
    "print(\"\\n\\n\")\n",
    "print(\"The k-vlaues are\\n\\n\")\n",
    "print(template.format(\"Observation\",\"k-value\"))\n",
    "for i,v in enumerate(loo_pool[2]):\n",
    "    print(template.format(str(i+1),str(v)))\n",
    "\n"
   ]
  },
  {
   "cell_type": "code",
   "execution_count": 147,
   "metadata": {},
   "outputs": [
    {
     "data": {
      "image/png": "[encoded data removed]",
      "text/plain": [
       "<Figure size 900x600 with 1 Axes>"
      ]
     },
     "metadata": {
      "needs_background": "light"
     },
     "output_type": "display_data"
    }
   ],
   "source": [
    "plt.hist(loo_pool[2],bins=20,ec='black')\n",
    "plt.axvline(x=0.7,color='red',linestyle='dashed',label=\"K=0.7\")\n",
    "plt.title(\"Distribution of k-values for Pooled Model\")\n",
    "plt.legend()\n",
    "plt.xlabel(\"k-values\")\n",
    "plt.show()"
   ]
  },
  {
   "cell_type": "code",
   "execution_count": 13,
   "metadata": {},
   "outputs": [
    {
     "name": "stderr",
     "output_type": "stream",
     "text": [
      "INFO:pystan:COMPILING THE C++ CODE FOR MODEL anon_model_4fab86fd51912de9443f1e847a6c9cda NOW.\n"
     ]
    }
   ],
   "source": [
    "factory_code_separate='''\n",
    "data {\n",
    "    int<lower=0> N; // number of data points\n",
    "    int<lower=0> K; // number of machines\n",
    "    int<lower=1,upper=K> x[N]; // group indicator\n",
    "    vector[N] y; //\n",
    "}\n",
    "parameters {\n",
    "    vector[K] mu;         // group means\n",
    "    vector<lower=0>[K] sigma;  // common std\n",
    "}\n",
    "model {\n",
    "  y ~ normal(mu[x], sigma[x]);\n",
    "} \n",
    "generated quantities {\n",
    " real ypred;  // A prediction \n",
    " vector[N] log_lik;\n",
    " ypred = normal_rng(mu[6], sigma[6]);\n",
    " for (i in 1:N)\n",
    "    log_lik[i] = normal_lpdf(y[i] | mu[x[i]], sigma[x[i]]);\n",
    " \n",
    "}\n",
    "'''\n",
    "\n",
    "sep_sm = pystan.StanModel(model_code=factory_code_separate)"
   ]
  },
  {
   "cell_type": "code",
   "execution_count": 96,
   "metadata": {},
   "outputs": [],
   "source": [
    "sep_data={\n",
    "                'N':factory_data.size,\n",
    "                'K':6,\n",
    "                'y':factory_data.values.flatten(),\n",
    "                'x':list(range(1,7))*5\n",
    "}\n",
    "sep_fit = sep_sm.sampling(data=sep_data, iter=1000, chains=4)"
   ]
  },
  {
   "cell_type": "code",
   "execution_count": 154,
   "metadata": {},
   "outputs": [
    {
     "name": "stdout",
     "output_type": "stream",
     "text": [
      "Separate Model Information:\n",
      "PSIS Loo value for Pooled Model :  -132.6163435734699\n",
      "p_eff value for Pooled Model:  10.065748803531022\n",
      "\n",
      "\n",
      "\n",
      "The k-vlaues are\n",
      "\n",
      "\n",
      "Observation\t|k-value\n",
      "1         \t|0.30796419096361144\n",
      "2         \t|0.21960871956669265\n",
      "3         \t|0.40206167101045465\n",
      "4         \t|0.45904579053497624\n",
      "5         \t|0.2826174498565773\n",
      "6         \t|0.8694216697537207\n",
      "7         \t|0.20438810825913278\n",
      "8         \t|0.2084665525275367\n",
      "9         \t|0.1290217523215031\n",
      "10        \t|0.3527876802173778\n",
      "11        \t|0.3206784097354915\n",
      "12        \t|0.38287345553258434\n",
      "13        \t|0.20438810825913278\n",
      "14        \t|0.18200800208390328\n",
      "15        \t|0.13015026707346145\n",
      "16        \t|0.4718290721081243\n",
      "17        \t|0.42149534807140937\n",
      "18        \t|0.4390484461159777\n",
      "19        \t|1.0029550392080304\n",
      "20        \t|0.2109038440172059\n",
      "21        \t|0.11790525293437379\n",
      "22        \t|0.4294423156846173\n",
      "23        \t|0.2826174498565773\n",
      "24        \t|0.29718095987938126\n",
      "25        \t|0.3323908818739568\n",
      "26        \t|0.837014020988078\n",
      "27        \t|0.806150730391928\n",
      "28        \t|0.4718290721081243\n",
      "29        \t|0.5064920939106858\n",
      "30        \t|0.47642854843392135\n"
     ]
    }
   ],
   "source": [
    "log_lik_sep = sep_fit.extract()['log_lik']\n",
    "loo_sep=psisloo(log_lik_sep)\n",
    "\n",
    "print(\"Separate Model Information:\")\n",
    "print(\"PSIS Loo value for Pooled Model : \",loo_sep[0])\n",
    "l_ppd_sep=np.sum(np.log(np.mean(np.exp(log_lik_sep),axis=0)))\n",
    "p_eff_sep = l_ppd_sep - loo_sep[0] \n",
    "print(\"p_eff value for Pooled Model: \",p_eff_sep)\n",
    "\n",
    "template = '{0:10}\\t|{1:4}'\n",
    "\n",
    "print(\"\\n\\n\")\n",
    "print(\"The k-vlaues are\\n\\n\")\n",
    "print(template.format(\"Observation\",\"k-value\"))\n",
    "for i,v in enumerate(loo_sep[2]):\n",
    "    print(template.format(str(i+1),str(v)))\n"
   ]
  },
  {
   "cell_type": "code",
   "execution_count": 146,
   "metadata": {},
   "outputs": [
    {
     "data": {
      "image/png": "[encoded data removed]",
      "text/plain": [
       "<Figure size 900x600 with 1 Axes>"
      ]
     },
     "metadata": {
      "needs_background": "light"
     },
     "output_type": "display_data"
    }
   ],
   "source": [
    "plt.hist(loo_sep[2],bins=20,ec='black')\n",
    "plt.axvline(x=0.7,color='red',linestyle='dashed',label=\"K=0.7\")\n",
    "plt.title(\"Distribution of k-values for Separate Model\")\n",
    "plt.legend()\n",
    "plt.xlabel(\"k-values\")\n",
    "plt.show()"
   ]
  },
  {
   "cell_type": "code",
   "execution_count": 161,
   "metadata": {},
   "outputs": [
    {
     "name": "stderr",
     "output_type": "stream",
     "text": [
      "INFO:pystan:COMPILING THE C++ CODE FOR MODEL anon_model_2d181f004a178c9dcd3cdad7707625c3 NOW.\n"
     ]
    }
   ],
   "source": [
    "factory_code_heir ='''\n",
    "data {\n",
    "    int<lower=0> N; // number of data points\n",
    "    int<lower=0> K; // number of groups\n",
    "    int<lower=1,upper=K> x[N]; // group indicator\n",
    "    vector[N] y; //\n",
    "}\n",
    "parameters {\n",
    "    real mu0;             // prior mean\n",
    "    real<lower=0> sigma0; // prior std\n",
    "    vector[K] mu;         // group means\n",
    "    real<lower=0> sigma;  // common std\n",
    "}\n",
    "model {\n",
    "  \n",
    "  mu ~ normal(mu0, sigma0); \n",
    "  y ~ normal(mu[x], sigma);\n",
    "  }\n",
    "generated quantities {\n",
    " real ypred;\n",
    " real mupred;\n",
    " real y7pred;\n",
    " vector[N] log_lik;\n",
    " \n",
    " ypred = normal_rng(mu[6], sigma);\n",
    " mupred = normal_rng(mu0, sigma0);\n",
    " y7pred = normal_rng(mupred,sigma);\n",
    " for (i in 1:N)\n",
    "    log_lik[i] = normal_lpdf(y[i] | mu[x[i]], sigma);\n",
    " }\n",
    "'''\n",
    "\n",
    "heir_sm = pystan.StanModel(model_code=factory_code_heir)"
   ]
  },
  {
   "cell_type": "code",
   "execution_count": 165,
   "metadata": {},
   "outputs": [
    {
     "name": "stdout",
     "output_type": "stream",
     "text": [
      "Inference for Stan model: anon_model_2d181f004a178c9dcd3cdad7707625c3.\n",
      "4 chains, each with iter=1000; warmup=500; thin=1; \n",
      "post-warmup draws per chain=500, total post-warmup draws=2000.\n",
      "\n",
      "              mean se_mean     sd   2.5%    25%    50%    75%  97.5%  n_eff   Rhat\n",
      "mu0          93.55    0.79  11.31   75.9  88.68  92.92  97.45  110.6    205   1.02\n",
      "sigma0        17.5     1.1  15.92   3.82   10.3  14.24  19.96  49.33    211   1.01\n",
      "mu[1]        79.75    0.23   6.85  65.91  75.28  79.64  84.41  93.44    895    1.0\n",
      "mu[2]       103.04    0.22   6.32  91.25  98.83 103.01 107.17 115.41    831    1.0\n",
      "mu[3]        89.02    0.14    6.0  77.09  85.06  89.16  92.84 100.58   1852    1.0\n",
      "mu[4]       107.34    0.29   6.81  93.58 102.75 107.55 112.08 120.07    533    1.0\n",
      "mu[5]        90.97    0.14   6.35  77.94  86.81  91.09  95.15 103.25   1983    1.0\n",
      "mu[6]        87.61    0.15   6.25  75.27  83.53  87.78  91.65  99.87   1843    1.0\n",
      "sigma        15.25    0.07   2.39  11.39  13.46  15.06  16.71  20.49   1028    1.0\n",
      "ypred        87.17    0.36   16.8  53.47  76.33  87.08  97.92 120.51   2170    1.0\n",
      "mupred       94.26    0.81  24.91  52.27   83.9   93.6 103.97 138.55    939    1.0\n",
      "y7pred       94.58    0.94  29.05  44.52  78.87  93.73 109.09 146.09    948    1.0\n",
      "log_lik[1]   -3.76  6.8e-3   0.22  -4.31  -3.87  -3.73  -3.61  -3.41   1078   1.01\n",
      "log_lik[2]   -4.15    0.01   0.39  -5.05  -4.38  -4.08  -3.87  -3.55   1079    1.0\n",
      "log_lik[3]   -4.05  8.8e-3   0.37  -4.95  -4.22  -3.98  -3.81  -3.56   1740    1.0\n",
      "log_lik[4]   -3.75  6.1e-3   0.21   -4.2  -3.87  -3.73   -3.6  -3.41   1154    1.0\n",
      "log_lik[5]   -4.05  7.9e-3   0.36  -4.95  -4.23  -3.99  -3.79  -3.51   2115    1.0\n",
      "log_lik[6]   -5.85    0.02   0.97  -8.09   -6.4  -5.72  -5.17  -4.38   2391    1.0\n",
      "log_lik[7]    -4.1    0.01   0.41  -5.11  -4.27   -4.0  -3.81  -3.57   1567    1.0\n",
      "log_lik[8]   -3.79  8.9e-3   0.24  -4.32  -3.92  -3.76  -3.63  -3.42    716   1.01\n",
      "log_lik[9]   -3.75  6.1e-3   0.21  -4.23  -3.86  -3.73  -3.61  -3.42   1170    1.0\n",
      "log_lik[10]  -4.02    0.02   0.37  -4.87  -4.23  -3.95  -3.74  -3.49    534    1.0\n",
      "log_lik[11]  -3.81  7.4e-3   0.25  -4.42  -3.92  -3.77  -3.64  -3.44   1143    1.0\n",
      "log_lik[12]  -3.76  7.0e-3   0.22  -4.27  -3.88  -3.74  -3.61  -3.42   1005    1.0\n",
      "log_lik[13]   -4.1    0.01   0.41  -5.11  -4.27   -4.0  -3.81  -3.57   1567    1.0\n",
      "log_lik[14]  -3.98    0.01   0.33  -4.73  -4.16  -3.93  -3.75  -3.48    904    1.0\n",
      "log_lik[15]  -3.73  6.0e-3    0.2  -4.18  -3.84  -3.71   -3.6  -3.41   1100    1.0\n",
      "log_lik[16]  -3.88    0.01   0.31  -4.63  -4.06  -3.82  -3.66  -3.43    476   1.01\n",
      "log_lik[17]  -4.06  9.7e-3   0.38  -5.02  -4.23  -3.98   -3.8  -3.54   1558    1.0\n",
      "log_lik[18]  -4.35    0.01    0.5  -5.65  -4.59  -4.23   -4.0  -3.66   1860    1.0\n",
      "log_lik[19]   -6.3    0.03    1.1   -8.7  -6.96   -6.2   -5.5   -4.5   1648    1.0\n",
      "log_lik[20]  -3.72  6.5e-3   0.19  -4.14  -3.83   -3.7  -3.59   -3.4    862    1.0\n",
      "log_lik[21]  -3.73  6.5e-3    0.2  -4.16  -3.84  -3.72   -3.6  -3.39    941    1.0\n",
      "log_lik[22]  -3.81  6.3e-3   0.24   -4.4  -3.92  -3.77  -3.65  -3.45   1451    1.0\n",
      "log_lik[23]  -4.05  7.9e-3   0.36  -4.95  -4.23  -3.99  -3.79  -3.51   2115    1.0\n",
      "log_lik[24]  -3.97  7.8e-3   0.32  -4.78  -4.14  -3.91  -3.74  -3.48   1713    1.0\n",
      "log_lik[25]  -4.09    0.01    0.4  -4.97  -4.32   -4.0  -3.79  -3.53   1057    1.0\n",
      "log_lik[26]  -4.33    0.01   0.49  -5.58  -4.57  -4.22  -3.97  -3.69   1417    1.0\n",
      "log_lik[27]  -4.81    0.01   0.61  -6.24  -5.13  -4.72  -4.37  -3.87   1990    1.0\n",
      "log_lik[28]  -3.88    0.01   0.31  -4.63  -4.06  -3.82  -3.66  -3.43    476   1.01\n",
      "log_lik[29]  -3.72  6.3e-3   0.19  -4.14  -3.84  -3.71  -3.59  -3.39    924    1.0\n",
      "log_lik[30]  -4.08  9.1e-3   0.39  -5.06  -4.25   -4.0  -3.82  -3.55   1812    1.0\n",
      "lp__        -108.9    0.14   2.67 -115.2 -110.4 -108.5 -107.0 -105.1    361    1.0\n",
      "\n",
      "Samples were drawn using NUTS at Fri Nov 16 20:35:16 2018.\n",
      "For each parameter, n_eff is a crude measure of effective sample size,\n",
      "and Rhat is the potential scale reduction factor on split chains (at \n",
      "convergence, Rhat=1).\n"
     ]
    }
   ],
   "source": [
    "print(heir_fit)"
   ]
  },
  {
   "cell_type": "code",
   "execution_count": 162,
   "metadata": {},
   "outputs": [
    {
     "name": "stderr",
     "output_type": "stream",
     "text": [
      "WARNING:pystan:16 of 2000 iterations ended with a divergence (0.8%).\n",
      "WARNING:pystan:Try running with adapt_delta larger than 0.8 to remove the divergences.\n"
     ]
    }
   ],
   "source": [
    "heir_data={\n",
    "                'N':factory_data.size,\n",
    "                'K':6,\n",
    "                'y':factory_data.values.flatten(),\n",
    "                'x':list(range(1,7))*5\n",
    "}\n",
    "heir_fit = heir_sm.sampling(data=heir_data, iter=1000, chains=4)"
   ]
  },
  {
   "cell_type": "code",
   "execution_count": 163,
   "metadata": {},
   "outputs": [
    {
     "name": "stdout",
     "output_type": "stream",
     "text": [
      "Hierarchical Model Information:\n",
      "PSIS Loo value for Hierarchical Model :  -126.85757608858157\n",
      "p_eff value for Hierarchical Model:  5.721601053602413\n",
      "\n",
      "\n",
      "\n",
      "The k-vlaues are\n",
      "\n",
      "\n",
      "Observation\t|k-value\n",
      "1         \t|0.338295106760175\n",
      "2         \t|0.3907161775135624\n",
      "3         \t|0.39724503419957147\n",
      "4         \t|0.3882087570089659\n",
      "5         \t|0.09211109877806173\n",
      "6         \t|0.6720046158027669\n",
      "7         \t|0.44354409152775004\n",
      "8         \t|0.35451474315112574\n",
      "9         \t|0.3666188452424064\n",
      "10        \t|0.12829225410362824\n",
      "11        \t|0.3540411806057732\n",
      "12        \t|0.3971665197783821\n",
      "13        \t|0.44354409152775004\n",
      "14        \t|0.36564083490970195\n",
      "15        \t|0.33463386310415516\n",
      "16        \t|0.1441117346115039\n",
      "17        \t|0.34093748583883454\n",
      "18        \t|0.45122588913536393\n",
      "19        \t|0.6870891665400854\n",
      "20        \t|0.2395417950212737\n",
      "21        \t|0.22585636183969265\n",
      "22        \t|0.2876463220998748\n",
      "23        \t|0.09211109877806173\n",
      "24        \t|0.16154054184561173\n",
      "25        \t|0.5140599244684363\n",
      "26        \t|0.3064796564125787\n",
      "27        \t|0.3160396364737294\n",
      "28        \t|0.1441117346115039\n",
      "29        \t|0.26659048460543305\n",
      "30        \t|0.4415829852825782\n"
     ]
    }
   ],
   "source": [
    "log_lik_heir = heir_fit.extract()['log_lik']\n",
    "loo_heir=psisloo(log_lik_heir)\n",
    "\n",
    "print(\"Hierarchical Model Information:\")\n",
    "print(\"PSIS Loo value for Hierarchical Model : \",loo_heir[0])\n",
    "l_ppd_heir=np.sum(np.log(np.mean(np.exp(log_lik_heir),axis=0)))\n",
    "p_eff_heir = l_ppd_heir - loo_heir[0] \n",
    "print(\"p_eff value for Hierarchical Model: \",p_eff_heir)\n",
    "\n",
    "template = '{0:10}\\t|{1:4}'\n",
    "\n",
    "print(\"\\n\\n\")\n",
    "print(\"The k-vlaues are\\n\\n\")\n",
    "print(template.format(\"Observation\",\"k-value\"))\n",
    "for i,v in enumerate(loo_heir[2]):\n",
    "    print(template.format(str(i+1),str(v)))"
   ]
  },
  {
   "cell_type": "code",
   "execution_count": 164,
   "metadata": {},
   "outputs": [
    {
     "data": {
      "image/png": "[encoded data removed]",
      "text/plain": [
       "<Figure size 900x600 with 1 Axes>"
      ]
     },
     "metadata": {
      "needs_background": "light"
     },
     "output_type": "display_data"
    }
   ],
   "source": [
    "plt.hist(loo_heir[2],bins=20,ec='black')\n",
    "plt.axvline(x=0.7,color='red',linestyle='dashed',label=\"K=0.7\")\n",
    "plt.title(\"Distribution of k-values for Separate Model\")\n",
    "plt.legend()\n",
    "plt.xlabel(\"k-values\")\n",
    "plt.show()"
   ]
  },
  {
   "cell_type": "code",
   "execution_count": null,
   "metadata": {},
   "outputs": [],
   "source": []
  }
 ],
 "metadata": {
  "kernelspec": {
   "display_name": "Python 3",
   "language": "python",
   "name": "python3"
  },
  "language_info": {
   "codemirror_mode": {
    "name": "ipython",
    "version": 3
   },
   "file_extension": ".py",
   "mimetype": "text/x-python",
   "name": "python",
   "nbconvert_exporter": "python",
   "pygments_lexer": "ipython3",
   "version": "3.6.6"
  }
 },
 "nbformat": 4,
 "nbformat_minor": 2
}
