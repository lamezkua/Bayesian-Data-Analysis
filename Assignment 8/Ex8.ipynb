{
 "cells": [
  {
   "cell_type": "code",
   "execution_count": 3,
   "metadata": {},
   "outputs": [],
   "source": [
    "'''\n",
    "Exercise 8\n",
    "'''\n",
    "import pandas as pd\n",
    "import matplotlib as mpl\n",
    "import matplotlib.pyplot as plt #define shorthand \"plt\" for package matlobplit.pyplot\n",
    "import numpy as np #define shorthand \"np\" for the numpy package\n",
    "import scipy.stats as sci\n",
    "import math as mat\n",
    "from mpl_toolkits.mplot3d import Axes3D\n",
    "from IPython.display import Markdown as md\n",
    "import pystan\n",
    "from psis import psisloo\n",
    "\n"
   ]
  },
  {
   "cell_type": "markdown",
   "metadata": {},
   "source": [
    "# Exercise 8\n",
    "Six factory machines' quality measurements STAN code is presented below for the separate, pooled and hierarchical models:"
   ]
  },
  {
   "cell_type": "code",
   "execution_count": 4,
   "metadata": {},
   "outputs": [
    {
     "name": "stderr",
     "output_type": "stream",
     "text": [
      "INFO:pystan:COMPILING THE C++ CODE FOR MODEL anon_model_1bfc4e9af8e67e9dc3cef8d227a9abeb NOW.\n"
     ]
    }
   ],
   "source": [
    "#Separate STAN model\n",
    "\n",
    "factory_separate_stan_code=\"\"\"\n",
    "data {\n",
    "    int<lower=0> N; // number of data points\n",
    "    int<lower=0> K; // number of groups\n",
    "    int<lower=1,upper=K> x[N]; // group indicator\n",
    "    vector[N] y; //\n",
    "}\n",
    "parameters {\n",
    "    vector[K] mu;         // group means\n",
    "    vector<lower=0>[K] sigma;  // std's of the groups\n",
    "}\n",
    "model {\n",
    "  y ~ normal(mu[x], sigma[x]);\n",
    "}\n",
    "generated quantities {\n",
    "    real ypred6;\n",
    "    vector[N] log_lik;\n",
    "    ypred6 = normal_rng(mu[6], sigma[6]);  \n",
    "    for (i in 1:N)\n",
    "        log_lik[i] = normal_lpdf(y[i] | mu[x[i]], sigma[x[i]]);    \n",
    "}\n",
    "\n",
    "\"\"\"\n",
    "\n",
    "sm_factory_separate = pystan.StanModel(model_code=factory_separate_stan_code)\n"
   ]
  },
  {
   "cell_type": "code",
   "execution_count": 6,
   "metadata": {},
   "outputs": [
    {
     "name": "stderr",
     "output_type": "stream",
     "text": [
      "INFO:pystan:COMPILING THE C++ CODE FOR MODEL anon_model_3f30e1cbe8094112c8b53d4af99ea40e NOW.\n"
     ]
    }
   ],
   "source": [
    "#Pooled STAN model\n",
    "\n",
    "factory_pooled_stan_code=\"\"\"\n",
    "data {\n",
    "    int<lower=0> N; // number of data points\n",
    "    vector[N] y; //\n",
    "}\n",
    "parameters {\n",
    "    real mu;               // prior mean\n",
    "    real<lower=0> sigma;   // prior std\n",
    "}\n",
    "model {\n",
    "  y ~ normal(mu, sigma);\n",
    "}\n",
    "generated quantities {\n",
    "    real ypred6;\n",
    "    vector[N] log_lik;\n",
    "    ypred6 = normal_rng(mu, sigma);\n",
    "    for (i in 1:N)\n",
    "        log_lik[i] = normal_lpdf(y[i] | mu, sigma);   \n",
    "}\n",
    "\"\"\"\n",
    "\n",
    "\n",
    "sm_factory_pooled = pystan.StanModel(model_code=factory_pooled_stan_code)"
   ]
  },
  {
   "cell_type": "code",
   "execution_count": 7,
   "metadata": {},
   "outputs": [
    {
     "name": "stderr",
     "output_type": "stream",
     "text": [
      "INFO:pystan:COMPILING THE C++ CODE FOR MODEL anon_model_2a8be7fc9197f4f28ab0b72237d8679c NOW.\n"
     ]
    }
   ],
   "source": [
    "# Hierarchical STAN model\n",
    "\n",
    "factory_hierarchical_stan_code=\"\"\"\n",
    "data {\n",
    "    int<lower=0> N; // number of data points\n",
    "    int<lower=0> K; // number of groups\n",
    "    int<lower=1,upper=K> x[N]; // group indicator\n",
    "    vector[N] y; //\n",
    "}\n",
    "parameters {\n",
    "    real mu0;             // prior mean\n",
    "    real<lower=0> sigma0; // prior std\n",
    "    vector[K] mu;         // group means\n",
    "    real<lower=0> sigma;  // common std\n",
    "}\n",
    "model {\n",
    "    mu ~ normal(mu0, sigma0); // population prior with unknown parameters\n",
    "    y ~ normal(mu[x], sigma);\n",
    "}\n",
    "generated quantities {\n",
    "    real ypred6;\n",
    "    real mu7;\n",
    "    vector[N] log_lik;\n",
    "    ypred6 = normal_rng(mu[6], sigma);\n",
    "    mu7 = normal_rng(mu0, sigma0);\n",
    "    for (i in 1:N)\n",
    "        log_lik[i] = normal_lpdf(y[i] | mu[x[i]], sigma);     \n",
    "}\n",
    "\"\"\"\n",
    "\n",
    "sm_factory_hierarchical = pystan.StanModel(model_code=factory_hierarchical_stan_code)"
   ]
  },
  {
   "cell_type": "markdown",
   "metadata": {},
   "source": [
    "Let's create the data for the models."
   ]
  },
  {
   "cell_type": "code",
   "execution_count": 5,
   "metadata": {},
   "outputs": [],
   "source": [
    "y=np.array(([83 ,117, 101, 105, 79, 57],\n",
    "[92, 109, 93, 119, 97, 92],\n",
    "[92, 114, 92, 116, 103, 104],\n",
    "[46, 104, 86, 102, 79, 77],\n",
    "[67, 87, 67, 116, 92, 100]  ))\n",
    "\n",
    "y=np.reshape(y, 30, order='F')\n",
    "x=np.concatenate( (np.ones(5) , 2*np.ones(5) ,  3*np.ones(5),\n",
    "                   4*np.ones(5),5*np.ones(5),6*np.ones(5)) ).astype(int)\n",
    "\n",
    "factory_separate_dat = {'y':y,\n",
    "                            'x': x,\n",
    "                            'N': 30,\n",
    "                            'K': 6\n",
    "                           }\n",
    "\n",
    "factory_pooled_dat = {'y':y,\n",
    "                      'N': 30,\n",
    "                      }\n",
    "factory_hierarchical_dat = {'y':y,\n",
    "                           'x': x,\n",
    "                           'N': 30,\n",
    "                           'K': 6\n",
    "                           }"
   ]
  },
  {
   "cell_type": "markdown",
   "metadata": {},
   "source": [
    "## Separate model \n",
    "In the separate model each machine $j$ has its own mean $\\mu_j$ and standard deviation $\\sigma_j$. This makes total of 12 parameters to be approximated.\n",
    "\n",
    "The PSIS-LOO value is -132.146, which is the highest of the three models. The smaller the number the better the model is considered to be if the PSIS-LOO value can be considered stable. This model is the worst of the three based on the PSIS-LOO value.\n",
    "\n",
    "The effective number of parameters $p_{eff}=p_{loo-cv}$ is 9.530012698216112 which means that out of the 12 parameters estimated 9,5 are considered to be effective.\n",
    "\n",
    "The calculated $\\hat{k}$ values of PSIS_LOO values for the observatios with the Separate model are presented in the histogram below. There are 4 of the $\\hat{k}$ values that are over > 0.7 so the estimate is probably little bit biased. This is means that the PSIS-LOO value is not completely accurate. There should be used some more accurate and computationally more expensive methods to evaluate LOO value for the 4 observations in question to get a more accurate estimate. However it can be said that the value quite clearly is worse than the other two.\n",
    "\n"
   ]
  },
  {
   "cell_type": "code",
   "execution_count": 63,
   "metadata": {},
   "outputs": [
    {
     "name": "stdout",
     "output_type": "stream",
     "text": [
      "PSIS-LOO value: -132.14664228183975\n",
      "p_loocv effective number of parameters: 9.530012698216112\n"
     ]
    },
    {
     "data": {
      "image/png": "[encoded data removed]",
      "text/plain": [
       "<Figure size 432x288 with 1 Axes>"
      ]
     },
     "metadata": {
      "needs_background": "light"
     },
     "output_type": "display_data"
    },
    {
     "name": "stdout",
     "output_type": "stream",
     "text": [
      "Inference for Stan model: anon_model_1bfc4e9af8e67e9dc3cef8d227a9abeb.\n",
      "4 chains, each with iter=2000; warmup=1000; thin=1; \n",
      "post-warmup draws per chain=1000, total post-warmup draws=4000.\n",
      "\n",
      "              mean se_mean     sd   2.5%    25%    50%    75%  97.5%  n_eff   Rhat\n",
      "mu[1]        75.83    0.49  16.06  45.01  68.42  76.02  83.34 104.71   1094    1.0\n",
      "mu[2]       106.14    0.24   9.66  86.91  101.5 106.18 110.77 125.92   1588    1.0\n",
      "mu[3]        88.13    0.37  11.09  68.14  82.75  87.89  93.14 110.97    907   1.01\n",
      "mu[4]        111.8    0.18   6.47  98.94  108.7 111.78 114.87 125.08   1311    1.0\n",
      "mu[5]        90.44    0.27   8.73  73.89  85.85  90.21  94.59 108.57   1067    1.0\n",
      "mu[6]        86.13    0.46  16.55  55.23   77.9  85.66  93.88 121.25   1289    1.0\n",
      "sigma[1]     31.11    0.76  24.61  12.83  19.32  25.44  35.26   79.7   1060    1.0\n",
      "sigma[2]     18.69    0.33  11.98   7.68  11.65  15.28  21.27   50.2   1290    1.0\n",
      "sigma[3]     20.71    0.53  14.38   8.37  12.65  16.58  23.54  59.27    744    1.0\n",
      "sigma[4]     12.02    0.24   8.45   5.08   7.48   9.78  13.66   32.4   1208    1.0\n",
      "sigma[5]     17.17     0.4  12.25   7.04  10.59  13.89  19.68  45.19    958    1.0\n",
      "sigma[6]      31.1    0.69  22.33  12.38  19.07  25.45  35.69  82.16   1049    1.0\n",
      "ypred6       86.04    0.73  38.96   8.38   66.6  85.93 104.21 163.69   2843    1.0\n",
      "log_lik[1]   -4.36    0.01   0.49  -5.46  -4.63  -4.31  -4.02  -3.61   1110    1.0\n",
      "log_lik[2]   -4.57    0.01   0.47  -5.68  -4.83   -4.5  -4.24  -3.84   1300    1.0\n",
      "log_lik[3]   -4.57    0.01   0.47  -5.68  -4.83   -4.5  -4.24  -3.84   1300    1.0\n",
      "log_lik[4]   -5.18    0.01   0.71  -7.02  -5.48  -5.05  -4.71  -4.24   3810    1.0\n",
      "log_lik[5]   -4.39    0.01   0.48  -5.45  -4.66  -4.33  -4.06  -3.64   1184    1.0\n",
      "log_lik[6]   -4.13    0.01   0.47  -5.19  -4.41  -4.06  -3.79  -3.37   1620    1.0\n",
      "log_lik[7]   -3.83    0.01   0.49  -4.99  -4.11  -3.77  -3.48  -3.06   1158    1.0\n",
      "log_lik[8]   -3.98    0.01   0.47  -5.09  -4.24  -3.91  -3.64  -3.23   1324    1.0\n",
      "log_lik[9]   -3.82    0.01    0.5  -4.99  -4.09  -3.77  -3.47  -3.05   1151    1.0\n",
      "log_lik[10]   -4.8    0.01   0.78  -6.86  -5.13  -4.64  -4.28   -3.8   4152    1.0\n",
      "log_lik[11]   -4.3    0.01   0.51  -5.53  -4.57  -4.23  -3.94  -3.53   1751    1.0\n",
      "log_lik[12]  -3.97    0.02    0.5  -5.15  -4.24  -3.91  -3.61  -3.17    980    1.0\n",
      "log_lik[13]  -3.95    0.02   0.51  -5.15  -4.22  -3.89  -3.59  -3.15    958    1.0\n",
      "log_lik[14]  -3.92    0.02   0.52  -5.16  -4.21  -3.85  -3.55  -3.11    900    1.0\n",
      "log_lik[15]   -4.9    0.01   0.81  -7.07  -5.24  -4.73  -4.35  -3.86   4371    1.0\n",
      "log_lik[16]  -3.66    0.01   0.49  -4.83  -3.95   -3.6  -3.31  -2.88   1598    1.0\n",
      "log_lik[17]  -3.73    0.01   0.49  -4.89   -4.0  -3.66  -3.37  -2.96   1511    1.0\n",
      "log_lik[18]   -3.5    0.01   0.48  -4.63  -3.76  -3.42  -3.16  -2.75   1110    1.0\n",
      "log_lik[19]  -3.98    0.01   0.59  -5.35  -4.28   -3.9  -3.58  -3.13   2948    1.0\n",
      "log_lik[20]   -3.5    0.01   0.48  -4.63  -3.76  -3.42  -3.16  -2.75   1110    1.0\n",
      "log_lik[21]  -4.12    0.01    0.5  -5.27   -4.4  -4.07  -3.76  -3.32   1691    1.0\n",
      "log_lik[22]  -3.88    0.01   0.47  -4.98  -4.15  -3.82  -3.54  -3.13   1185    1.0\n",
      "log_lik[23]  -4.27    0.01   0.55  -5.59  -4.56  -4.19  -3.89  -3.45   2637    1.0\n",
      "log_lik[24]  -4.12    0.01    0.5  -5.27   -4.4  -4.07  -3.76  -3.32   1691    1.0\n",
      "log_lik[25]  -3.73    0.02    0.5  -4.87  -4.02  -3.66  -3.38  -2.95   1054    1.0\n",
      "log_lik[26]  -5.14    0.01   0.71  -6.95  -5.45   -5.0  -4.67  -4.19   4014    1.0\n",
      "log_lik[27]  -4.36    0.01   0.49  -5.46  -4.65   -4.3  -4.01  -3.58   1111    1.0\n",
      "log_lik[28]  -4.66    0.01   0.49  -5.77  -4.93   -4.6  -4.32  -3.87   1653    1.0\n",
      "log_lik[29]   -4.4    0.01    0.5  -5.53  -4.69  -4.34  -4.04   -3.6   1156    1.0\n",
      "log_lik[30]  -4.53    0.01   0.48  -5.59  -4.81  -4.47   -4.2  -3.75   1312    1.0\n",
      "lp__        -81.34    0.11   3.15  -88.6 -83.22 -80.97 -79.06  -76.4    761    1.0\n",
      "\n",
      "Samples were drawn using NUTS at Sat Nov 17 22:45:00 2018.\n",
      "For each parameter, n_eff is a crude measure of effective sample size,\n",
      "and Rhat is the potential scale reduction factor on split chains (at \n",
      "convergence, Rhat=1).\n"
     ]
    }
   ],
   "source": [
    "#Separate\n",
    "\n",
    "fit_separate = sm_factory_separate.sampling(data=factory_separate_dat, n_jobs=-1)\n",
    "ypred6_separate=fit_separate.extract(permuted=True)['ypred6']\n",
    "mu_separate=fit_separate.extract(permuted=True)['mu']\n",
    "log_lik=fit_separate.extract(permuted=True)['log_lik']\n",
    "psis=psisloo(log_lik)\n",
    "print(\"PSIS-LOO value:\", psis[0])\n",
    "#Estimate of the effective number of parameters\n",
    "#lppd (computd log pointwise predictive density) calculation\n",
    "S=np.size(log_lik,0)\n",
    "lppd=sum(np.log([1/S*sum(np.exp(col)) for col in log_lik.T]))\n",
    "#Formula: p_loocv=lppd-lppd_loocv\n",
    "p_loocv=lppd-psis[0]\n",
    "print(\"p_loocv effective number of parameters:\",p_loocv)\n",
    "plt.hist(psis[2], bins=np.linspace(0,1,11))\n",
    "plt.title(\"$\\^{k}$ of PSIS-LOO for the observations with separate model N=4000\")\n",
    "plt.show()\n",
    "\n",
    "summary_separate=fit_separate.summary()\n",
    "summary_df_separate=pd.DataFrame(summary_separate['summary'], \n",
    "                                 columns=summary_separate['summary_colnames'], \n",
    "                                 index=summary_separate['summary_rownames'])\n",
    "\n",
    "#Print info on the fitting and sampling of paramters alpha and beta \n",
    "print(fit_separate)\n",
    "#fit_separate.plot()\n",
    "#plt.show()\n",
    "\n",
    "#plt.hist(mu_separate[:,5],bins=50)\n",
    "#plt.title(\"Posterior mean of machine 6\")\n",
    "#plt.show()\n",
    "#plt.hist(ypred6_separate, bins=50)\n",
    "#plt.title(\"Predictive distribution of quality measurement for machine 6\")\n",
    "#plt.show()"
   ]
  },
  {
   "cell_type": "markdown",
   "metadata": {},
   "source": [
    "## Pooled model \n",
    "In the pooled model all the data of the machines are assumed to be from one machine in theoretically speaking. All the machines have thus same mean $\\mu$ and standard deviation $\\sigma$. This way there are only two parameters in the model to estimate.\n",
    "\n",
    "The PSIS-LOO value is -130.99, which is the middle value for the three models. The smaller the number the better the model is considered to be if the PSIS-LOO value can be considered stable. This is between the separate and the hierarchical models in goodness-of-fit.\n",
    "\n",
    "The effective number of parameters $p_{eff}=p_{loo-cv}$ is 2.02 which means that the 2 parameters are considered quite effective for the model.\n",
    "\n",
    "The calculated $\\hat{k}$ values of PSIS_LOO values for the observatios with the Pooled model are presented in the histogram below. All the $\\hat{k}$ values are under < 0.7, so the PSIS-LOO estimate can be considered to be good approximation.\n"
   ]
  },
  {
   "cell_type": "code",
   "execution_count": 65,
   "metadata": {},
   "outputs": [
    {
     "name": "stdout",
     "output_type": "stream",
     "text": [
      "PSIS-LOO value: -130.99238195225863\n",
      "p_loocv effective number of parameters: 2.015749266322473\n"
     ]
    },
    {
     "data": {
      "image/png": "[encoded data removed]",
      "text/plain": [
       "<Figure size 432x288 with 1 Axes>"
      ]
     },
     "metadata": {
      "needs_background": "light"
     },
     "output_type": "display_data"
    },
    {
     "name": "stdout",
     "output_type": "stream",
     "text": [
      "Inference for Stan model: anon_model_3f30e1cbe8094112c8b53d4af99ea40e.\n",
      "4 chains, each with iter=2000; warmup=1000; thin=1; \n",
      "post-warmup draws per chain=1000, total post-warmup draws=4000.\n",
      "\n",
      "              mean se_mean     sd   2.5%    25%    50%    75%  97.5%  n_eff   Rhat\n",
      "mu           92.93    0.06   3.42  86.21  90.67  92.89  95.15   99.9   2769    1.0\n",
      "sigma        18.86    0.05   2.65  14.47  16.97  18.56  20.44  24.84   2504    1.0\n",
      "ypred6       92.52    0.31   19.4  53.47  79.58  92.91 105.25  131.1   4040    1.0\n",
      "log_lik[1]   -4.01  2.9e-3   0.14  -4.32   -4.1   -4.0  -3.91  -3.74   2532    1.0\n",
      "log_lik[2]   -3.86  2.8e-3   0.14  -4.16  -3.95  -3.86  -3.77  -3.61   2411    1.0\n",
      "log_lik[3]   -3.86  2.8e-3   0.14  -4.16  -3.95  -3.86  -3.77  -3.61   2411    1.0\n",
      "log_lik[4]   -7.13    0.02   0.87  -9.12  -7.66  -7.03   -6.5  -5.72   2976    1.0\n",
      "log_lik[5]   -4.86  5.1e-3   0.29  -5.54  -5.02  -4.82  -4.65  -4.39   3143    1.0\n",
      "log_lik[6]   -4.73  4.8e-3   0.26  -5.32  -4.88   -4.7  -4.54  -4.29   3008    1.0\n",
      "log_lik[7]   -4.25  3.0e-3   0.16   -4.6  -4.35  -4.24  -4.14  -3.96   2984    1.0\n",
      "log_lik[8]   -4.53  3.9e-3   0.22   -5.0  -4.64  -4.51  -4.38  -4.16   3038    1.0\n",
      "log_lik[9]   -4.05  2.6e-3   0.14  -4.34  -4.13  -4.04  -3.95  -3.79   2755    1.0\n",
      "log_lik[10]  -3.91  2.9e-3   0.14  -4.21   -4.0  -3.91  -3.82  -3.66   2430    1.0\n",
      "log_lik[11]  -3.96  2.7e-3   0.14  -4.24  -4.05  -3.96  -3.87  -3.71   2610    1.0\n",
      "log_lik[12]  -3.86  2.8e-3   0.14  -4.16  -3.95  -3.86  -3.77  -3.61   2418    1.0\n",
      "log_lik[13]  -3.86  2.8e-3   0.14  -4.16  -3.95  -3.86  -3.77  -3.61   2411    1.0\n",
      "log_lik[14]  -3.93  2.9e-3   0.14  -4.23  -4.02  -3.93  -3.83  -3.67   2447    1.0\n",
      "log_lik[15]  -4.86  5.1e-3   0.29  -5.54  -5.02  -4.82  -4.65  -4.39   3143    1.0\n",
      "log_lik[16]  -4.08  2.7e-3   0.14  -4.38  -4.17  -4.08  -3.98  -3.82   2807    1.0\n",
      "log_lik[17]  -4.88  5.5e-3    0.3  -5.56  -5.05  -4.84  -4.67  -4.38   2981    1.0\n",
      "log_lik[18]  -4.66  4.5e-3   0.25  -5.21  -4.79  -4.63  -4.48  -4.25   3020    1.0\n",
      "log_lik[19]  -3.99  2.6e-3   0.14  -4.26  -4.07  -3.98  -3.89  -3.74   2655    1.0\n",
      "log_lik[20]  -4.66  4.5e-3   0.25  -5.21  -4.79  -4.63  -4.48  -4.25   3020    1.0\n",
      "log_lik[21]  -4.15  3.0e-3   0.15  -4.49  -4.25  -4.14  -4.04  -3.87   2729    1.0\n",
      "log_lik[22]  -3.89  2.8e-3   0.14  -4.18  -3.98  -3.88  -3.79  -3.63   2481    1.0\n",
      "log_lik[23]  -4.01  2.6e-3   0.14   -4.3   -4.1  -4.01  -3.92  -3.76   2703    1.0\n",
      "log_lik[24]  -4.15  3.0e-3   0.15  -4.49  -4.25  -4.14  -4.04  -3.87   2729    1.0\n",
      "log_lik[25]  -3.86  2.8e-3   0.14  -4.16  -3.95  -3.86  -3.77  -3.61   2411    1.0\n",
      "log_lik[26]  -5.78  9.3e-3   0.52  -6.99  -6.09  -5.71  -5.41  -4.95   3066    1.0\n",
      "log_lik[27]  -3.86  2.8e-3   0.14  -4.16  -3.95  -3.86  -3.77  -3.61   2411    1.0\n",
      "log_lik[28]  -4.05  2.6e-3   0.14  -4.34  -4.13  -4.04  -3.95  -3.79   2755    1.0\n",
      "log_lik[29]  -4.24  3.1e-3   0.17   -4.6  -4.34  -4.22  -4.12  -3.95   2847    1.0\n",
      "log_lik[30]  -3.94  2.7e-3   0.14  -4.22  -4.03  -3.93  -3.84  -3.68   2571    1.0\n",
      "lp__        -99.36    0.03   1.04 -102.1 -99.75 -99.03 -98.61 -98.35   1673    1.0\n",
      "\n",
      "Samples were drawn using NUTS at Sat Nov 17 23:10:39 2018.\n",
      "For each parameter, n_eff is a crude measure of effective sample size,\n",
      "and Rhat is the potential scale reduction factor on split chains (at \n",
      "convergence, Rhat=1).\n"
     ]
    }
   ],
   "source": [
    "# Pooled\n",
    "\n",
    "fit_pooled = sm_factory_pooled.sampling(data=factory_pooled_dat, n_jobs=-1)\n",
    "#mu7_pooled=fit_pooled.extract(permuted=True)['y7']\n",
    "ypred6_pooled=fit_pooled.extract(permuted=True)['ypred6']\n",
    "mu_pooled=fit_pooled.extract(permuted=True)['mu']\n",
    "mu7_pooled=mu_pooled\n",
    "log_lik=fit_pooled.extract(permuted=True)['log_lik']\n",
    "psis=psisloo(log_lik)\n",
    "print(\"PSIS-LOO value:\", psis[0])\n",
    "#Estimate of the effective number of parameters\n",
    "#lppd (computd log pointwise predictive density) calculation\n",
    "S=np.size(log_lik,0)\n",
    "lppd=sum(np.log([1/S*sum(np.exp(col)) for col in log_lik.T]))\n",
    "#Formula: p_loocv=lppd-lppd_loocv\n",
    "p_loocv=lppd-psis[0]\n",
    "print(\"p_loocv effective number of parameters:\",p_loocv)\n",
    "plt.hist(psis[2],bins=np.linspace(0,1,11))\n",
    "plt.title(\"$\\^{k}$ of PSIS-LOO for the observations with pooled model N=4000\")\n",
    "plt.show()\n",
    "\n",
    "summary_pooled=fit_pooled.summary()\n",
    "summary_df_pooled=pd.DataFrame(summary_pooled['summary'], \n",
    "                               columns=summary_pooled['summary_colnames'], \n",
    "                               index=summary_pooled['summary_rownames'])\n",
    "#Print info on the fitting and sampling of paramters alpha and beta \n",
    "print(fit_pooled)\n",
    "#fit_pooled.plot()\n",
    "#plt.show()\n",
    "\n",
    "#plt.hist(mu_pooled,bins=50)\n",
    "#plt.title(\"Posterior mean of machine 6\")\n",
    "#plt.show()\n",
    "#plt.hist(ypred6_pooled, bins=50)\n",
    "#plt.title(\"Predictive distribution of quality measurement for machine 6\")\n",
    "#plt.show()\n",
    "#plt.hist(mu7_pooled, bins=50)\n",
    "#plt.title(\"Posterior distribution of mean of quality measurement for machine 7\\n Posterior mean is the same for all the machines for Pooled model\")\n",
    "#plt.show()\n"
   ]
  },
  {
   "cell_type": "markdown",
   "metadata": {},
   "source": [
    "## Hierarchical model \n",
    "In the hierarchical model $\\mu_0$ and $\\sigma_0$ were set as parameters for the prior distrubution mu $\\mu \\sim N( \\mu_0 , \\sigma_0 )$ for all machines where prior distribution for $\\mu_0$ and $\\sigma_0$ is assumed to be uniform. The standard deviation of quality measurements of all the machines was assumed to be equal for all machines. In total there are 9 parameters to be estimated.\n",
    "\n",
    "The PSIS-LOO value is -126.83, which is the smallest value for the three models. The smaller the number the better the model is considered to be if the PSIS-LOO value can be considered stable. So this model can be considered to be **the best** of the three.\n",
    "\n",
    "The effective number of parameters $p_{eff}=p_{loo-cv}$ is 5.73 which means that out of the 9 parameters 5.73 are considered quite effective for the model.\n",
    "\n",
    "The calculated $\\hat{k}$ values of PSIS_LOO values for the observatios with the Pooled model are presented in the histogram below. All the $\\hat{k}$ values are under < 0.7, so the PSIS-LOO estimate can be considered to be good.\n"
   ]
  },
  {
   "cell_type": "code",
   "execution_count": 66,
   "metadata": {},
   "outputs": [
    {
     "name": "stderr",
     "output_type": "stream",
     "text": [
      "WARNING:pystan:21 of 4000 iterations ended with a divergence (0.525%).\n",
      "WARNING:pystan:Try running with adapt_delta larger than 0.8 to remove the divergences.\n"
     ]
    },
    {
     "name": "stdout",
     "output_type": "stream",
     "text": [
      "PSIS-LOO value: -126.83042187252312\n",
      "p_loo-cv estimated effective number of parameters: 5.726957568402469\n"
     ]
    },
    {
     "data": {
      "image/png": "[encoded data removed]",
      "text/plain": [
       "<Figure size 432x288 with 1 Axes>"
      ]
     },
     "metadata": {
      "needs_background": "light"
     },
     "output_type": "display_data"
    },
    {
     "name": "stdout",
     "output_type": "stream",
     "text": [
      "Inference for Stan model: anon_model_2a8be7fc9197f4f28ab0b72237d8679c.\n",
      "4 chains, each with iter=2000; warmup=1000; thin=1; \n",
      "post-warmup draws per chain=1000, total post-warmup draws=4000.\n",
      "\n",
      "              mean se_mean     sd   2.5%    25%    50%    75%  97.5%  n_eff   Rhat\n",
      "mu0          92.83    0.19   8.14  76.38  88.37  92.85  97.17 109.41   1756    1.0\n",
      "sigma0       16.52    0.28  10.45    4.8  10.28  14.16  19.62  43.12   1350    1.0\n",
      "mu[1]        79.76    0.16   6.84  66.23  75.42  79.75  84.26  93.38   1935    1.0\n",
      "mu[2]       103.01    0.13   6.65  89.53  98.55 103.11 107.44 115.78   2512    1.0\n",
      "mu[3]        88.79    0.11   6.07  76.46   84.7  88.96  92.75 100.55   3167    1.0\n",
      "mu[4]       107.44    0.15   6.78  93.72 102.95 107.58 111.95 120.46   1916   1.01\n",
      "mu[5]        90.81     0.1   6.12  78.72  86.75  90.92  94.89 102.66   3463    1.0\n",
      "mu[6]        87.37    0.11   6.27  74.75  83.26  87.57  91.53  99.47   3371    1.0\n",
      "sigma        15.23    0.05   2.38  11.29  13.57  15.03  16.67  20.67   2350    1.0\n",
      "ypred6       87.15    0.25  16.36  55.11  76.44  87.26  97.58 119.72   4123    1.0\n",
      "mu7          93.05    0.37  21.31  51.76  82.99  92.83 102.49 136.16   3270    1.0\n",
      "log_lik[1]   -3.76  4.8e-3   0.23  -4.28  -3.86  -3.73  -3.61  -3.41   2317    1.0\n",
      "log_lik[2]   -4.09  7.5e-3   0.42  -5.19  -4.26   -4.0  -3.81  -3.57   3114    1.0\n",
      "log_lik[3]   -4.09  7.5e-3   0.42  -5.19  -4.26   -4.0  -3.81  -3.57   3114    1.0\n",
      "log_lik[4]   -6.31    0.02    1.1  -8.75  -6.98  -6.19  -5.53  -4.51   3141    1.0\n",
      "log_lik[5]   -4.09 10.0e-3    0.4  -5.04   -4.3  -4.02  -3.81  -3.52   1590    1.0\n",
      "log_lik[6]   -4.16  8.1e-3   0.43  -5.22  -4.39  -4.08  -3.85  -3.55   2824    1.0\n",
      "log_lik[7]    -3.8  5.7e-3   0.26  -4.44  -3.93  -3.76  -3.63  -3.41   2045    1.0\n",
      "log_lik[8]   -3.99  7.1e-3   0.36  -4.87  -4.18  -3.93  -3.74  -3.48   2497    1.0\n",
      "log_lik[9]   -3.73  4.6e-3    0.2  -4.18  -3.84  -3.71  -3.59  -3.39   1924    1.0\n",
      "log_lik[10]  -4.34  9.4e-3   0.52  -5.62  -4.59  -4.23  -3.96  -3.67   3049    1.0\n",
      "log_lik[11]  -4.06  6.3e-3   0.37  -4.98  -4.24  -3.98  -3.81  -3.56   3379    1.0\n",
      "log_lik[12]  -3.75  4.1e-3   0.21  -4.26  -3.87  -3.73  -3.61   -3.4   2764    1.0\n",
      "log_lik[13]  -3.74  4.0e-3    0.2   -4.2  -3.85  -3.72   -3.6  -3.39   2629    1.0\n",
      "log_lik[14]  -3.73  4.0e-3   0.19  -4.17  -3.84  -3.71  -3.59   -3.4   2349    1.0\n",
      "log_lik[15]   -4.8  9.8e-3   0.63  -6.25  -5.16  -4.72  -4.34  -3.86   4058    1.0\n",
      "log_lik[16]  -3.75  4.2e-3   0.21  -4.23  -3.85  -3.72  -3.61  -3.41   2414    1.0\n",
      "log_lik[17]  -4.02  9.5e-3   0.37  -4.95  -4.22  -3.94  -3.75  -3.49   1559   1.01\n",
      "log_lik[18]  -3.88  8.6e-3   0.31  -4.65  -4.04  -3.82  -3.67  -3.43   1299   1.01\n",
      "log_lik[19]  -3.81  4.5e-3   0.24  -4.41  -3.92  -3.77  -3.65  -3.45   2954    1.0\n",
      "log_lik[20]  -3.88  8.6e-3   0.31  -4.65  -4.04  -3.82  -3.67  -3.43   1299   1.01\n",
      "log_lik[21]  -4.03  5.9e-3   0.34  -4.85  -4.22  -3.97  -3.78  -3.53   3399    1.0\n",
      "log_lik[22]   -3.8  4.5e-3   0.24  -4.37  -3.92  -3.77  -3.64  -3.43   2825    1.0\n",
      "log_lik[23]  -4.06  6.0e-3   0.36  -4.96  -4.24  -3.99  -3.81  -3.55   3618    1.0\n",
      "log_lik[24]  -4.03  5.9e-3   0.34  -4.85  -4.22  -3.97  -3.78  -3.53   3399    1.0\n",
      "log_lik[25]  -3.71  4.1e-3   0.19  -4.14  -3.82   -3.7  -3.58  -3.38   2096    1.0\n",
      "log_lik[26]  -5.83    0.01   0.96  -8.08  -6.38   -5.7  -5.14  -4.33   4136    1.0\n",
      "log_lik[27]  -3.77  4.2e-3   0.22  -4.31  -3.88  -3.74  -3.62  -3.41   2706    1.0\n",
      "log_lik[28]  -4.37  8.6e-3   0.51  -5.62  -4.62  -4.25  -4.01  -3.68   3440    1.0\n",
      "log_lik[29]  -3.96  6.0e-3   0.32  -4.71  -4.13   -3.9  -3.73  -3.47   2914    1.0\n",
      "log_lik[30]  -4.09  6.6e-3   0.39  -5.07  -4.28   -4.0  -3.82  -3.56   3454    1.0\n",
      "lp__        -108.9    0.07    2.5 -114.9 -110.2 -108.5 -107.0 -105.2   1287    1.0\n",
      "\n",
      "Samples were drawn using NUTS at Sat Nov 17 23:10:59 2018.\n",
      "For each parameter, n_eff is a crude measure of effective sample size,\n",
      "and Rhat is the potential scale reduction factor on split chains (at \n",
      "convergence, Rhat=1).\n"
     ]
    }
   ],
   "source": [
    "# Hierarchical\n",
    "\n",
    "fit_hierarchical = sm_factory_hierarchical.sampling(data=factory_hierarchical_dat, n_jobs=-1)\n",
    "mu7_hierarchical=fit_hierarchical.extract(permuted=True)['mu7']\n",
    "ypred6_hierarchical=fit_hierarchical.extract(permuted=True)['ypred6']\n",
    "mu_hierarchical=fit_hierarchical.extract(permuted=True)['mu']\n",
    "log_lik=fit_hierarchical.extract(permuted=True)['log_lik']\n",
    "psis=psisloo(log_lik)\n",
    "print(\"PSIS-LOO value:\", psis[0])\n",
    "#Estimate of the effective number of parameters\n",
    "#lppd (computd log pointwise predictive density) calculation\n",
    "S=np.size(log_lik,0)\n",
    "lppd=sum(np.log([1/S*sum(np.exp(col)) for col in log_lik.T]))\n",
    "#Effective number of parameters formula: p_loocv=lppd-lppd_loocv\n",
    "p_loocv=lppd-psis[0]\n",
    "print(\"p_loo-cv estimated effective number of parameters:\",p_loocv)\n",
    "plt.hist(psis[2],bins=np.linspace(0,1,11))\n",
    "plt.title(\"$\\^{k}$ of PSIS-LOO for the observations with hierarchical model N=4000\")\n",
    "plt.show()\n",
    "\n",
    "summary_hierarchical=fit_hierarchical.summary()\n",
    "summary_df_hierarchical=pd.DataFrame(summary_hierarchical['summary'], \n",
    "                                     columns=summary_hierarchical['summary_colnames'], \n",
    "                                     index=summary_hierarchical['summary_rownames'])\n",
    "\n",
    "#Print info on the fitting and sampling of paramters alpha and beta \n",
    "print(fit_hierarchical)\n",
    "#fit_hierarchical.plot()\n",
    "#plt.show()\n",
    "\n",
    "#plt.hist(mu_hierarchical[:,5],bins=50)\n",
    "#plt.title(\"Posterior mean of machine 6\")\n",
    "#plt.show()\n",
    "#plt.hist(ypred6_hierarchical, bins=50)\n",
    "#plt.title(\"Predictive distribution of quality measurement for machine 6\")\n",
    "#plt.show()\n",
    "#plt.hist(mu7_hierarchical, bins=50)\n",
    "#plt.title(\"Posterior distribution of mean of quality measurement for machine 7\")\n",
    "#plt.show()\n"
   ]
  }
 ],
 "metadata": {
  "kernelspec": {
   "display_name": "Python 3",
   "language": "python",
   "name": "python3"
  },
  "language_info": {
   "codemirror_mode": {
    "name": "ipython",
    "version": 3
   },
   "file_extension": ".py",
   "mimetype": "text/x-python",
   "name": "python",
   "nbconvert_exporter": "python",
   "pygments_lexer": "ipython3",
   "version": "3.6.5"
  }
 },
 "nbformat": 4,
 "nbformat_minor": 2
}
